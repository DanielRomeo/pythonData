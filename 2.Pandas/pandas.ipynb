{
 "cells": [
  {
   "cell_type": "markdown",
   "metadata": {},
   "source": [
    "## Pandas lesson 1"
   ]
  },
  {
   "cell_type": "code",
   "execution_count": null,
   "metadata": {},
   "outputs": [],
   "source": [
    "# install pandas:\n",
    "!pip install pandas\n",
    "\n"
   ]
  },
  {
   "cell_type": "code",
   "execution_count": 7,
   "metadata": {},
   "outputs": [],
   "source": [
    "import numpy as np\n",
    "import pandas as pd"
   ]
  },
  {
   "cell_type": "code",
   "execution_count": 16,
   "metadata": {},
   "outputs": [
    {
     "name": "stdout",
     "output_type": "stream",
     "text": [
      "a   -0.846419\n",
      "b    0.825188\n",
      "c    0.219340\n",
      "d    0.675668\n",
      "e    2.786347\n",
      "dtype: float64 \n",
      "\n",
      "a    1.2\n",
      "b    2.0\n",
      "c    3.0\n",
      "dtype: float64\n"
     ]
    }
   ],
   "source": [
    "np.random.randn(5) # returns an array of 5 numbers.\n",
    "\n",
    "# create a series of randomized numbers:\n",
    "pd.Series(np.random.randn(5))\n",
    "\n",
    "# we can pass in indexes to a series like this:\n",
    "seriesOfIndexes = pd.Series(np.random.randn(5), index=['a', 'b', 'c', 'd', 'e'])\n",
    "print(seriesOfIndexes, '\\n')\n",
    "\n",
    "# create a series out of a dictionary:\n",
    "myDict = {\n",
    "    'a': 1.2,\n",
    "    'b': 2,\n",
    "    'c': 3\n",
    "}\n",
    "seriesFromDict = pd.Series(myDict)\n",
    "print(seriesFromDict)\n"
   ]
  },
  {
   "cell_type": "markdown",
   "metadata": {},
   "source": [
    "### Creating and using data frames:"
   ]
  },
  {
   "cell_type": "code",
   "execution_count": 18,
   "metadata": {},
   "outputs": [
    {
     "name": "stdout",
     "output_type": "stream",
     "text": [
      "  C1  C2\n",
      "0  A   2\n",
      "1  B   4\n",
      "2  C   5\n"
     ]
    }
   ],
   "source": [
    "# Create a dataframe from series:\n",
    "d = {\n",
    "    'C1': pd.Series(['A', 'B', 'C']),\n",
    "    'C2': pd.Series([2,4,5])\n",
    "}\n",
    "mydataframe1 = pd.DataFrame(d)\n",
    "print(mydataframe1)\n"
   ]
  },
  {
   "cell_type": "code",
   "execution_count": 21,
   "metadata": {},
   "outputs": [
    {
     "data": {
      "text/html": [
       "<div>\n",
       "<style scoped>\n",
       "    .dataframe tbody tr th:only-of-type {\n",
       "        vertical-align: middle;\n",
       "    }\n",
       "\n",
       "    .dataframe tbody tr th {\n",
       "        vertical-align: top;\n",
       "    }\n",
       "\n",
       "    .dataframe thead th {\n",
       "        text-align: right;\n",
       "    }\n",
       "</style>\n",
       "<table border=\"1\" class=\"dataframe\">\n",
       "  <thead>\n",
       "    <tr style=\"text-align: right;\">\n",
       "      <th></th>\n",
       "      <th>A</th>\n",
       "      <th>B</th>\n",
       "      <th>C</th>\n",
       "      <th>D</th>\n",
       "    </tr>\n",
       "  </thead>\n",
       "  <tbody>\n",
       "    <tr>\n",
       "      <th>2013-01-01</th>\n",
       "      <td>-0.412399</td>\n",
       "      <td>-1.132083</td>\n",
       "      <td>1.340930</td>\n",
       "      <td>0.761320</td>\n",
       "    </tr>\n",
       "    <tr>\n",
       "      <th>2013-01-02</th>\n",
       "      <td>0.101861</td>\n",
       "      <td>1.520364</td>\n",
       "      <td>-1.067190</td>\n",
       "      <td>-0.009772</td>\n",
       "    </tr>\n",
       "    <tr>\n",
       "      <th>2013-01-03</th>\n",
       "      <td>-0.204397</td>\n",
       "      <td>1.517109</td>\n",
       "      <td>-0.374596</td>\n",
       "      <td>-0.444781</td>\n",
       "    </tr>\n",
       "    <tr>\n",
       "      <th>2013-01-04</th>\n",
       "      <td>1.703011</td>\n",
       "      <td>0.547917</td>\n",
       "      <td>0.887155</td>\n",
       "      <td>1.343812</td>\n",
       "    </tr>\n",
       "    <tr>\n",
       "      <th>2013-01-05</th>\n",
       "      <td>0.490158</td>\n",
       "      <td>-0.592669</td>\n",
       "      <td>-0.738344</td>\n",
       "      <td>-0.594841</td>\n",
       "    </tr>\n",
       "    <tr>\n",
       "      <th>2013-01-06</th>\n",
       "      <td>-1.750086</td>\n",
       "      <td>-0.217419</td>\n",
       "      <td>-0.950329</td>\n",
       "      <td>-1.014964</td>\n",
       "    </tr>\n",
       "  </tbody>\n",
       "</table>\n",
       "</div>"
      ],
      "text/plain": [
       "                   A         B         C         D\n",
       "2013-01-01 -0.412399 -1.132083  1.340930  0.761320\n",
       "2013-01-02  0.101861  1.520364 -1.067190 -0.009772\n",
       "2013-01-03 -0.204397  1.517109 -0.374596 -0.444781\n",
       "2013-01-04  1.703011  0.547917  0.887155  1.343812\n",
       "2013-01-05  0.490158 -0.592669 -0.738344 -0.594841\n",
       "2013-01-06 -1.750086 -0.217419 -0.950329 -1.014964"
      ]
     },
     "execution_count": 21,
     "metadata": {},
     "output_type": "execute_result"
    }
   ],
   "source": [
    "# create a dataframe by passing a numpy array with a datetime index using date_range() and labeled columns:\n",
    "\n",
    "dates = pd.date_range(\"20130101\", periods=6)\n",
    "pd.DataFrame(np.random.randn(6, 4), index=dates, columns=list('ABCD'))\n"
   ]
  }
 ],
 "metadata": {
  "kernelspec": {
   "display_name": "Python 3",
   "language": "python",
   "name": "python3"
  },
  "language_info": {
   "codemirror_mode": {
    "name": "ipython",
    "version": 3
   },
   "file_extension": ".py",
   "mimetype": "text/x-python",
   "name": "python",
   "nbconvert_exporter": "python",
   "pygments_lexer": "ipython3",
   "version": "3.10.12"
  }
 },
 "nbformat": 4,
 "nbformat_minor": 2
}
