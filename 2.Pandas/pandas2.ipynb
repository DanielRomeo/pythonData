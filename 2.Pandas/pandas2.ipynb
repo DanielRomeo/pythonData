{
 "cells": [
  {
   "cell_type": "markdown",
   "metadata": {},
   "source": [
    "### Learning pandas 2"
   ]
  },
  {
   "cell_type": "code",
   "execution_count": 3,
   "metadata": {},
   "outputs": [],
   "source": [
    "import pandas as pd\n",
    "import numpy as np"
   ]
  },
  {
   "cell_type": "code",
   "execution_count": 13,
   "metadata": {},
   "outputs": [
    {
     "name": "stdout",
     "output_type": "stream",
     "text": [
      "     A          B    C  D      E    F\n",
      "0  1.0 2013-01-02  1.0  3   test  foo\n",
      "1  1.0 2013-01-02  1.0  3  train  foo\n"
     ]
    },
    {
     "data": {
      "text/html": [
       "<div>\n",
       "<style scoped>\n",
       "    .dataframe tbody tr th:only-of-type {\n",
       "        vertical-align: middle;\n",
       "    }\n",
       "\n",
       "    .dataframe tbody tr th {\n",
       "        vertical-align: top;\n",
       "    }\n",
       "\n",
       "    .dataframe thead th {\n",
       "        text-align: right;\n",
       "    }\n",
       "</style>\n",
       "<table border=\"1\" class=\"dataframe\">\n",
       "  <thead>\n",
       "    <tr style=\"text-align: right;\">\n",
       "      <th></th>\n",
       "      <th>A</th>\n",
       "      <th>B</th>\n",
       "      <th>C</th>\n",
       "      <th>D</th>\n",
       "      <th>E</th>\n",
       "      <th>F</th>\n",
       "    </tr>\n",
       "  </thead>\n",
       "  <tbody>\n",
       "    <tr>\n",
       "      <th>1</th>\n",
       "      <td>1.0</td>\n",
       "      <td>2013-01-02</td>\n",
       "      <td>1.0</td>\n",
       "      <td>3</td>\n",
       "      <td>train</td>\n",
       "      <td>foo</td>\n",
       "    </tr>\n",
       "    <tr>\n",
       "      <th>2</th>\n",
       "      <td>1.0</td>\n",
       "      <td>2013-01-02</td>\n",
       "      <td>1.0</td>\n",
       "      <td>3</td>\n",
       "      <td>test</td>\n",
       "      <td>foo</td>\n",
       "    </tr>\n",
       "    <tr>\n",
       "      <th>3</th>\n",
       "      <td>1.0</td>\n",
       "      <td>2013-01-02</td>\n",
       "      <td>1.0</td>\n",
       "      <td>3</td>\n",
       "      <td>train</td>\n",
       "      <td>foo</td>\n",
       "    </tr>\n",
       "  </tbody>\n",
       "</table>\n",
       "</div>"
      ],
      "text/plain": [
       "     A          B    C  D      E    F\n",
       "1  1.0 2013-01-02  1.0  3  train  foo\n",
       "2  1.0 2013-01-02  1.0  3   test  foo\n",
       "3  1.0 2013-01-02  1.0  3  train  foo"
      ]
     },
     "execution_count": 13,
     "metadata": {},
     "output_type": "execute_result"
    }
   ],
   "source": [
    "df2 = pd.DataFrame(\n",
    "    {\n",
    "        \"A\": 1.0,\n",
    "        \"B\": pd.Timestamp(\"20130102\"),\n",
    "        \"C\": pd.Series(1, index=list(range(4)), dtype=\"float32\"),\n",
    "        \"D\": np.array([3] * 4, dtype=\"int32\"),\n",
    "        \"E\": pd.Categorical([\"test\", \"train\", \"test\", \"train\"]),\n",
    "        \"F\": \"foo\",\n",
    "    }\n",
    ")\n",
    "# print df2\n",
    "df2\n",
    "\n",
    "# view the head and tail of the data:\n",
    "print(df2.head(2))\n",
    "df2.tail(3)\n",
    "\n"
   ]
  },
  {
   "cell_type": "code",
   "execution_count": 26,
   "metadata": {},
   "outputs": [
    {
     "name": "stdout",
     "output_type": "stream",
     "text": [
      "                   A         B         C         D\n",
      "2013-01-01 -0.185720  0.717981 -1.451805 -0.033023\n",
      "2013-01-02  1.275307 -0.960215  0.093474 -0.423651\n",
      "2013-01-03 -0.279742 -1.058214  1.602458 -0.416216\n",
      "2013-01-04 -0.595077 -1.730041 -0.174761  0.691903\n",
      "2013-01-05  0.493486  0.532965  1.506266  0.968924\n",
      "2013-01-06 -0.269425 -1.223668 -0.809131  0.089838\n",
      "DatetimeIndex(['2013-01-01', '2013-01-02', '2013-01-03', '2013-01-04',\n",
      "               '2013-01-05', '2013-01-06'],\n",
      "              dtype='datetime64[ns]', freq='D')\n",
      "Index(['A', 'B', 'C', 'D'], dtype='object')\n",
      "\n",
      " The numpy representation of the dataFrame is : \n",
      " [[-0.18571969  0.71798098 -1.45180545 -0.03302345]\n",
      " [ 1.27530706 -0.96021526  0.09347431 -0.42365146]\n",
      " [-0.27974166 -1.05821426  1.60245765 -0.41621597]\n",
      " [-0.59507664 -1.73004054 -0.17476128  0.69190265]\n",
      " [ 0.49348614  0.53296524  1.50626626  0.96892418]\n",
      " [-0.26942463 -1.22366757 -0.80913071  0.08983772]]\n"
     ]
    }
   ],
   "source": [
    "# create a dataframe by passing a numpy array with a datetime index using date_range() and labeled columns:\n",
    "\n",
    "dates = pd.date_range(\"20130101\", periods=6)\n",
    "df = pd.DataFrame(np.random.randn(6, 4), index=dates, columns=list('ABCD'))\n",
    "print(df)\n",
    "\n",
    "\n",
    "# print out the cols and indexes:\n",
    "# print(df.index)\n",
    "print(df.index)\n",
    "print(df.columns)\n",
    "# \n",
    "\n",
    "# return the numpy representation of the dataframe:\n",
    "print(\"\\n The numpy representation of the dataFrame is : \\n\",df.to_numpy())\n"
   ]
  },
  {
   "cell_type": "code",
   "execution_count": 33,
   "metadata": {},
   "outputs": [
    {
     "name": "stdout",
     "output_type": "stream",
     "text": [
      "              A         B         C         D\n",
      "count  6.000000  6.000000  6.000000  6.000000\n",
      "mean   0.073138 -0.620199  0.127750  0.146296\n",
      "std    0.689535  1.002388  1.228047  0.574631\n",
      "min   -0.595077 -1.730041 -1.451805 -0.423651\n",
      "25%   -0.277162 -1.182304 -0.650538 -0.320418\n",
      "50%   -0.227572 -1.009215 -0.040643  0.028407\n",
      "75%    0.323685  0.159670  1.153068  0.541386\n",
      "max    1.275307  0.717981  1.602458  0.968924\n",
      "\n",
      " \n",
      " The transposed Matrix is: \n",
      "       2013-01-01  2013-01-02  2013-01-03  2013-01-04  2013-01-05  2013-01-06\n",
      "count    4.000000    4.000000    4.000000    4.000000    4.000000    4.000000\n",
      "mean    -0.238142   -0.003771   -0.037929   -0.451994    0.875410   -0.553096\n",
      "std      0.900365    0.955089    1.145051    1.006518    0.472532    0.579958\n",
      "min     -1.451805   -0.960215   -1.058214   -1.730041    0.493486   -1.223668\n",
      "25%     -0.502241   -0.557792   -0.576716   -0.878818    0.523095   -0.912765\n",
      "50%     -0.109372   -0.165089   -0.347979   -0.384919    0.750945   -0.539278\n",
      "75%      0.154728    0.388932    0.190808    0.041905    1.103260   -0.179609\n",
      "max      0.717981    1.275307    1.602458    0.691903    1.506266    0.089838\n"
     ]
    }
   ],
   "source": [
    "# Use describe to show the statistical information of my data:\n",
    "print(df.describe())\n",
    "\n",
    "print(\"\\n \\n The transposed Matrix is: \")\n",
    "\n",
    "# Transposed the data and got the description of the dataFrame\n",
    "transposedData = df.T\n",
    "print(transposedData.describe())"
   ]
  },
  {
   "cell_type": "code",
   "execution_count": 36,
   "metadata": {},
   "outputs": [
    {
     "data": {
      "text/html": [
       "<div>\n",
       "<style scoped>\n",
       "    .dataframe tbody tr th:only-of-type {\n",
       "        vertical-align: middle;\n",
       "    }\n",
       "\n",
       "    .dataframe tbody tr th {\n",
       "        vertical-align: top;\n",
       "    }\n",
       "\n",
       "    .dataframe thead th {\n",
       "        text-align: right;\n",
       "    }\n",
       "</style>\n",
       "<table border=\"1\" class=\"dataframe\">\n",
       "  <thead>\n",
       "    <tr style=\"text-align: right;\">\n",
       "      <th></th>\n",
       "      <th>A</th>\n",
       "      <th>B</th>\n",
       "      <th>C</th>\n",
       "      <th>D</th>\n",
       "    </tr>\n",
       "  </thead>\n",
       "  <tbody>\n",
       "    <tr>\n",
       "      <th>2013-01-01</th>\n",
       "      <td>-0.185720</td>\n",
       "      <td>0.717981</td>\n",
       "      <td>-1.451805</td>\n",
       "      <td>-0.033023</td>\n",
       "    </tr>\n",
       "    <tr>\n",
       "      <th>2013-01-02</th>\n",
       "      <td>1.275307</td>\n",
       "      <td>-0.960215</td>\n",
       "      <td>0.093474</td>\n",
       "      <td>-0.423651</td>\n",
       "    </tr>\n",
       "    <tr>\n",
       "      <th>2013-01-03</th>\n",
       "      <td>-0.279742</td>\n",
       "      <td>-1.058214</td>\n",
       "      <td>1.602458</td>\n",
       "      <td>-0.416216</td>\n",
       "    </tr>\n",
       "    <tr>\n",
       "      <th>2013-01-04</th>\n",
       "      <td>-0.595077</td>\n",
       "      <td>-1.730041</td>\n",
       "      <td>-0.174761</td>\n",
       "      <td>0.691903</td>\n",
       "    </tr>\n",
       "    <tr>\n",
       "      <th>2013-01-05</th>\n",
       "      <td>0.493486</td>\n",
       "      <td>0.532965</td>\n",
       "      <td>1.506266</td>\n",
       "      <td>0.968924</td>\n",
       "    </tr>\n",
       "    <tr>\n",
       "      <th>2013-01-06</th>\n",
       "      <td>-0.269425</td>\n",
       "      <td>-1.223668</td>\n",
       "      <td>-0.809131</td>\n",
       "      <td>0.089838</td>\n",
       "    </tr>\n",
       "  </tbody>\n",
       "</table>\n",
       "</div>"
      ],
      "text/plain": [
       "                   A         B         C         D\n",
       "2013-01-01 -0.185720  0.717981 -1.451805 -0.033023\n",
       "2013-01-02  1.275307 -0.960215  0.093474 -0.423651\n",
       "2013-01-03 -0.279742 -1.058214  1.602458 -0.416216\n",
       "2013-01-04 -0.595077 -1.730041 -0.174761  0.691903\n",
       "2013-01-05  0.493486  0.532965  1.506266  0.968924\n",
       "2013-01-06 -0.269425 -1.223668 -0.809131  0.089838"
      ]
     },
     "execution_count": 36,
     "metadata": {},
     "output_type": "execute_result"
    }
   ],
   "source": [
    "# sorting:\n",
    "# Axis can either be 0 or 1, 0 being default, fliped to 1, the A goes to the end:\n",
    "df.sort_index(axis=0, ascending=True)"
   ]
  }
 ],
 "metadata": {
  "kernelspec": {
   "display_name": "Python 3",
   "language": "python",
   "name": "python3"
  },
  "language_info": {
   "codemirror_mode": {
    "name": "ipython",
    "version": 3
   },
   "file_extension": ".py",
   "mimetype": "text/x-python",
   "name": "python",
   "nbconvert_exporter": "python",
   "pygments_lexer": "ipython3",
   "version": "3.10.12"
  }
 },
 "nbformat": 4,
 "nbformat_minor": 2
}
