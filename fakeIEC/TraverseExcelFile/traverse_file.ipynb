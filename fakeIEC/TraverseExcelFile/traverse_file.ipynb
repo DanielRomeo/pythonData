{
 "cells": [
  {
   "cell_type": "markdown",
   "metadata": {},
   "source": [
    "Python script to traverse through an excel file using pandas"
   ]
  },
  {
   "cell_type": "code",
   "execution_count": null,
   "metadata": {},
   "outputs": [],
   "source": [
    "!pip install pandas\n",
    "!pip install openpyxl"
   ]
  },
  {
   "cell_type": "code",
   "execution_count": 29,
   "metadata": {},
   "outputs": [
    {
     "name": "stdout",
     "output_type": "stream",
     "text": [
      "   Firstname Lastname       IdNumber\n",
      "0       Sam  Bankman  9811111111111\n",
      "1       Kim   Legodi  9204893234543 \n",
      " \n",
      "Print only the firstnames: \n",
      "   Firstname\n",
      "0       Sam\n",
      "1       Kim\n"
     ]
    }
   ],
   "source": [
    "import pandas as pd\n",
    "import openpyxl\n",
    "\n",
    "sheet = \"VoterData.xlsx\"\n",
    "\n",
    "# Read the Excel file into a DataFrame\n",
    "df = pd.read_excel(sheet)\n",
    "print(f\" {df} \\n \")\n",
    "\n",
    "# Read and print the columns:\n",
    "df = pd.read_excel(sheet, usecols=[\"Firstname\"])\n",
    "print(\"Print only the firstnames: \\n\",df)"
   ]
  }
 ],
 "metadata": {
  "kernelspec": {
   "display_name": "Python 3",
   "language": "python",
   "name": "python3"
  },
  "language_info": {
   "codemirror_mode": {
    "name": "ipython",
    "version": 3
   },
   "file_extension": ".py",
   "mimetype": "text/x-python",
   "name": "python",
   "nbconvert_exporter": "python",
   "pygments_lexer": "ipython3",
   "version": "3.10.12"
  }
 },
 "nbformat": 4,
 "nbformat_minor": 2
}
