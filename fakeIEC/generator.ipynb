{
 "cells": [
  {
   "cell_type": "code",
   "execution_count": 14,
   "metadata": {},
   "outputs": [
    {
     "name": "stdout",
     "output_type": "stream",
     "text": [
      "(1, 'daniel', 'mamphekgo')\n",
      "The type of data is <class 'list'>. \n",
      "The the type of row in the data is <class 'tuple'>\n"
     ]
    }
   ],
   "source": [
    "import sqlite3\n",
    "\n",
    "conn = sqlite3.connect(\"mydatabase.sqlite\")\n",
    "\n",
    "# get all people registered to vote in the database:\n",
    "query1 = \"select * from People\"\n",
    "\n",
    "# execute the queries using the cursor:\n",
    "cursor = conn.cursor()\n",
    "cursor.execute(query1) \n",
    "data = cursor.fetchall()\n",
    "\n",
    "# print the data from the cursor:\n",
    "for row in data:\n",
    "    print(row)\n",
    "\n",
    "\n",
    "# print the type of data\n",
    "print(f\"The type of data is {type(data) }. \") \n",
    "\n",
    "# print the type of row in data\n",
    "print(f\"The the type of row in the data is {type(data[0])}\")\n",
    "\n"
   ]
  }
 ],
 "metadata": {
  "kernelspec": {
   "display_name": "Python 3",
   "language": "python",
   "name": "python3"
  },
  "language_info": {
   "codemirror_mode": {
    "name": "ipython",
    "version": 3
   },
   "file_extension": ".py",
   "mimetype": "text/x-python",
   "name": "python",
   "nbconvert_exporter": "python",
   "pygments_lexer": "ipython3",
   "version": "3.10.12"
  }
 },
 "nbformat": 4,
 "nbformat_minor": 2
}
