{
 "cells": [
  {
   "cell_type": "code",
   "execution_count": 5,
   "metadata": {},
   "outputs": [
    {
     "name": "stdout",
     "output_type": "stream",
     "text": [
      "Defaulting to user installation because normal site-packages is not writeable\n",
      "Requirement already satisfied: faker in /home/sambankmanfried/.local/lib/python3.10/site-packages (25.8.0)\n",
      "Requirement already satisfied: python-dateutil>=2.4 in /home/sambankmanfried/.local/lib/python3.10/site-packages (from faker) (2.9.0.post0)\n",
      "Requirement already satisfied: six>=1.5 in /usr/lib/python3/dist-packages (from python-dateutil>=2.4->faker) (1.16.0)\n",
      "Defaulting to user installation because normal site-packages is not writeable\n",
      "Requirement already satisfied: pandas in /home/sambankmanfried/.local/lib/python3.10/site-packages (2.2.2)\n",
      "Requirement already satisfied: pytz>=2020.1 in /usr/lib/python3/dist-packages (from pandas) (2022.1)\n",
      "Requirement already satisfied: tzdata>=2022.7 in /home/sambankmanfried/.local/lib/python3.10/site-packages (from pandas) (2024.1)\n",
      "Requirement already satisfied: numpy>=1.22.4 in /home/sambankmanfried/.local/lib/python3.10/site-packages (from pandas) (1.26.4)\n",
      "Requirement already satisfied: python-dateutil>=2.8.2 in /home/sambankmanfried/.local/lib/python3.10/site-packages (from pandas) (2.9.0.post0)\n",
      "Requirement already satisfied: six>=1.5 in /usr/lib/python3/dist-packages (from python-dateutil>=2.8.2->pandas) (1.16.0)\n",
      "Defaulting to user installation because normal site-packages is not writeable\n",
      "Requirement already satisfied: openpyxl in /home/sambankmanfried/.local/lib/python3.10/site-packages (3.1.3)\n",
      "Requirement already satisfied: et-xmlfile in /home/sambankmanfried/.local/lib/python3.10/site-packages (from openpyxl) (1.1.0)\n"
     ]
    }
   ],
   "source": [
    "!pip install faker\n",
    "!pip install pandas\n",
    "!pip install openpyxl"
   ]
  },
  {
   "cell_type": "code",
   "execution_count": 6,
   "metadata": {},
   "outputs": [],
   "source": [
    "import sqlite3\n",
    "import random\n",
    "from faker import Faker\n",
    "from datetime import datetime, timedelta\n",
    "\n",
    "addresses_array = {\n",
    "    \"Limpopo\": [\"Vhembe\", \"Mopani\", \"Capricorn\", \"Sekhukhune\", \"Waterburg\"],\n",
    "    \"Kwa-zulu Natal\": [\"Amajuba\", \"Ilembe\", \"Sisonke\", \"Ugu\", \"uMkhanyakude\", \"uMgungundlovu\", \"uMzinyathi\", \"Uthukela\", \"Uthungulu\", \"Zululand\"],\n",
    "    \"Gauteng\": [\"Sedibeng\", \"West rand\", \"Johannesburg\",  \"Tswane\", \"Ekurhuleni\", \"Metsweding\"],\n",
    "    \"Free State\": [\"Fezile Dabi\", \"Lejweleputswa\", \"Thabo Mofutsanyana\", \"Xhariep\"] ,\n",
    "    \"North West\": [\"Bojanala Platinum \", \"Dr Kenneth Kaunda\", \"Dr Ruth Segomotsi Mompati\", \"Ngaka Modiri Molema\"],\n",
    "    \"Northern Cape\": [\"Frances Baard\", \"John Taolo Gaetsewe\", \"Namakwa\", \"Pixley Ka Seme\", \"ZF Mgcawu\"],\n",
    "    \"Mpumalanga\": [\"Ehlanzeni\", \"Gert Sibande\", \"Nkangala\", ],\n",
    "    \"Eastern Cape\": [\"Buffalo City Metropolitan\", \"Nelson Mandela Bay Metropolitan\", \"Alfred Nzo\", \"Amathole\", \"Chris Hani\", \"Joe Gqabi\", \"OR Tambo\", \"Sarah Baartman\"],\n",
    "    \"Western Cape\": [\"City of Cape Town Metropolitan\", \"Cape Winelands\", \"Central Karoo\", \"Garden Route\", \"Overberg\", \"West Coast\"]\n",
    "}\n",
    "ballot_array = [\"ANC\", \"MK\", \"DA\", \"IFP\", \"BOSA\", \"EFF\", \"VFF\", \"ACT\", \"COPE\", \"ALJAMA AH\", \"GOOD\", \"PAC\", \"UDM\", \"NFP\"]\n",
    "spread_sheet_cols = [\"Firstname\", \"Lastname\", \"Idnumber\", \"Ethnicity\", \"Province_address\", \"District_address\", \"National_vote\", \"Provincial_vote\", \"District_vote\"]\n",
    "ethnicity = [\"black\", \"indian\", \"coloured\", \"white\"]"
   ]
  },
  {
   "cell_type": "code",
   "execution_count": 7,
   "metadata": {},
   "outputs": [
    {
     "name": "stdout",
     "output_type": "stream",
     "text": [
      "Firstname: Angela\n",
      "Lastname: Thompson\n",
      "ID Number: 2304019174638\n",
      "Ethnicity: indian\n",
      "Province: Eastern Cape\n",
      "District: Alfred Nzo\n",
      "National Vote: MK\n",
      "Provincial Vote: VFF\n",
      "District Vote: ACT\n",
      "==============================\n"
     ]
    }
   ],
   "source": [
    "# Voter class\n",
    "\n",
    "class Voter(object):\n",
    "\tdef __init__(self):\n",
    "\t\t# Initialize faker object\n",
    "\t\tself.faker = Faker()\n",
    "\n",
    "\t\t# Generate random data\n",
    "\t\tself.Firstname = self.faker.first_name()\n",
    "\t\tself.Lastname = self.faker.last_name()\n",
    "\t\tself.Idnumber = self.generate_south_africa_id()\n",
    "\t\tself.Ethnicity = random.choice(ethnicity)\n",
    "\t\tself.Province_address = self.get_random_province()\n",
    "\t\tself.District_address = self.get_random_district(self.Province_address)\n",
    "\t\tself.National_vote = random.choice(ballot_array)\n",
    "\t\tself.Provincial_vote = random.choice(ballot_array)\n",
    "\t\tself.District_vote = random.choice(ballot_array)\n",
    "\n",
    "\n",
    "\tdef generate_south_africa_id(self, min_age=18, max_age=120):\n",
    "\t\tcurrent_date = datetime.now()\n",
    "\t\tmin_birth_date = current_date - timedelta(days=max_age * 365)\n",
    "\t\tmax_birth_date = current_date - timedelta(days=min_age * 365)\n",
    "\n",
    "\t\t# Generate a random date between min_birth_date and max_birth_date\n",
    "\t\trandom_days = random.randint(0, (max_birth_date - min_birth_date).days)\n",
    "\t\tdob = min_birth_date + timedelta(days=random_days)\n",
    "\t\tdob=  dob.strftime('%Y%m%d') # this is my date of birth\n",
    "\t\tdob_halved = dob[2:]\n",
    "\n",
    "\t\t# Generate a random list of 9 digits\n",
    "\t\trandom_7_digits = ''.join([str(random.randint(0, 9)) for _ in range(7)])\n",
    "\n",
    "\t\treturn dob_halved+random_7_digits\n",
    "\t\n",
    "\n",
    "\tdef get_random_province(self):\n",
    "\t\treturn random.choice(list(addresses_array.keys()))\n",
    "\n",
    "\tdef get_random_district(self, province):\n",
    "\t\tif province in addresses_array:\n",
    "\t\t\treturn random.choice(addresses_array[province])\n",
    "\t\telse:\n",
    "\t\t\treturn None  # Handle\n",
    "\t\n",
    "\tdef print_data(self):\n",
    "\t\t\"\"\"\n",
    "\t\tPrints all voter data in a formatted way.\n",
    "\t\t\"\"\"\n",
    "\t\tprint(f\"Firstname: {self.Firstname}\")\n",
    "\t\tprint(f\"Lastname: {self.Lastname}\")\n",
    "\t\tprint(f\"ID Number: {self.Idnumber}\")\n",
    "\t\tprint(f\"Ethnicity: {self.Ethnicity}\")\n",
    "\t\tprint(f\"Province: {self.Province_address}\")\n",
    "\t\tprint(f\"District: {self.District_address}\")\n",
    "\t\tprint(f\"National Vote: {self.National_vote}\")\n",
    "\t\tprint(f\"Provincial Vote: {self.Provincial_vote}\")\n",
    "\t\tprint(f\"District Vote: {self.District_vote}\")\n",
    "\t\tprint(\"=\" * 30)  # Add a separator for readability\n",
    "\n",
    "\tdef get_data_as_list(self):\n",
    "\t\t\"\"\"\n",
    "\t\tReturns voter data as a linear list.\n",
    "\t\t\"\"\"\n",
    "\t\tdata_list = [\n",
    "\t\t\tself.Firstname,\n",
    "\t\t\tself.Lastname,\n",
    "\t\t\tself.Idnumber,\n",
    "\t\t\tself.Ethnicity,\n",
    "\t\t\tself.Province_address,\n",
    "\t\t\tself.District_address,\n",
    "\t\t\tself.National_vote,\n",
    "\t\t\tself.Provincial_vote,\n",
    "\t\t\tself.District_vote\n",
    "\t\t]\n",
    "\t\treturn data_list\n",
    "\t\t\n",
    "Daniel = Voter()\n",
    "Daniel.print_data()"
   ]
  },
  {
   "cell_type": "markdown",
   "metadata": {},
   "source": [
    "## Store the users in spreadsheet"
   ]
  },
  {
   "cell_type": "code",
   "execution_count": 11,
   "metadata": {},
   "outputs": [],
   "source": [
    "import pandas as pd\n",
    "import openpyxl\n",
    "\n",
    "spread_sheet_cols = [\"Firstname\", \"Lastname\", \"Idnumber\", \"Ethnicity\", \"Province_address\", \"District_address\", \"National_vote\", \"Provincial_vote\", \"District_vote\"]\n",
    "\n",
    "\n",
    "# Create workbook:\n",
    "wb = openpyxl.Workbook()\n",
    "\n",
    "# Select the active worksheet\n",
    "ws = wb.active\n",
    "\n",
    "ws.append(spread_sheet_cols)\n",
    "\n",
    "\n",
    "# Add data rows\n",
    "for i in range(1000):\n",
    "    user = Voter()\n",
    "    data = user.get_data_as_list()\n",
    "    ws.append(data)\n",
    "\n",
    "\n",
    "# Save the workbook\n",
    "wb.save(\"voter_data.xlsx\")"
   ]
  }
 ],
 "metadata": {
  "kernelspec": {
   "display_name": "Python 3",
   "language": "python",
   "name": "python3"
  },
  "language_info": {
   "codemirror_mode": {
    "name": "ipython",
    "version": 3
   },
   "file_extension": ".py",
   "mimetype": "text/x-python",
   "name": "python",
   "nbconvert_exporter": "python",
   "pygments_lexer": "ipython3",
   "version": "3.10.12"
  }
 },
 "nbformat": 4,
 "nbformat_minor": 2
}
