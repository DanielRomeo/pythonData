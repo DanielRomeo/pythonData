{
 "cells": [
  {
   "cell_type": "markdown",
   "metadata": {},
   "source": [
    "### Install neccessary dependencies:"
   ]
  },
  {
   "cell_type": "code",
   "execution_count": 6,
   "metadata": {},
   "outputs": [
    {
     "name": "stdout",
     "output_type": "stream",
     "text": [
      "Defaulting to user installation because normal site-packages is not writeable\n",
      "Requirement already satisfied: numpy in /home/sambankmanfried/.local/lib/python3.10/site-packages (1.26.4)\n",
      "Note: you may need to restart the kernel to use updated packages.\n"
     ]
    }
   ],
   "source": [
    "pip install numpy"
   ]
  },
  {
   "cell_type": "markdown",
   "metadata": {},
   "source": [
    "### Basics of numpy:"
   ]
  },
  {
   "cell_type": "code",
   "execution_count": 18,
   "metadata": {},
   "outputs": [
    {
     "name": "stdout",
     "output_type": "stream",
     "text": [
      "[[ 0  1  2  3]\n",
      " [ 4  5  6  7]\n",
      " [ 8  9 10 11]]\n",
      "Number of dimentions:  2\n",
      "Shape of the matrix is :  (3, 4)\n",
      "Size of matrix is :  12\n",
      "Data type of elems in matrix:  int64\n"
     ]
    }
   ],
   "source": [
    "import numpy as np\n",
    "\n",
    "# creating an array:\n",
    "arr1 = np.array([[0, 1, 2, 3],\n",
    "        [4, 5, 6, 7],\n",
    "        [8, 9, 10, 11]])\n",
    "print(arr1)\n",
    "\n",
    "# get number fo dimentions:\n",
    "print(\"Number of dimentions: \", arr1.ndim)\n",
    "\n",
    "# get th saspe of matrix:\n",
    "print(\"Shape of the matrix is : \",arr1.shape)\n",
    "\n",
    "# size of matrix:\n",
    "print(\"Size of matrix is : \", arr1.size)\n",
    "\n",
    "# data type of elems in matrix:\n",
    "print(\"Data type of elems in matrix: \", arr1.dtype.name)\n"
   ]
  },
  {
   "cell_type": "markdown",
   "metadata": {},
   "source": [
    "### Mathematical operations:"
   ]
  },
  {
   "cell_type": "code",
   "execution_count": 24,
   "metadata": {},
   "outputs": [
    {
     "name": "stdout",
     "output_type": "stream",
     "text": [
      "[10 10 10 10]\n",
      "[100 100 100 100]\n",
      "[False False  True  True]\n"
     ]
    }
   ],
   "source": [
    "\n",
    "a = np.array([11,12,13,14])\n",
    "b = np.array([1,2,3,4])\n",
    "c = a-b\n",
    "\n",
    "# print the c array and square every elem:\n",
    "print(c)\n",
    "print(c**2)\n",
    "\n",
    "# conditional operations:\n",
    "print(b > 2)\n",
    "\n",
    "\n"
   ]
  },
  {
   "cell_type": "code",
   "execution_count": 31,
   "metadata": {},
   "outputs": [
    {
     "name": "stdout",
     "output_type": "stream",
     "text": [
      "[[2 0]\n",
      " [0 4]]\n",
      "index grabbed:  1\n",
      "index grabbed first row, first elem to third [0 1 2]\n",
      "index grabbed first row, all elems in it [0 1 2 3]\n"
     ]
    }
   ],
   "source": [
    "# marix multiplication:\n",
    "A1 = np.array([\n",
    "    [1,1],\n",
    "    [0,1]\n",
    "])\n",
    "A2 = np.array([\n",
    "    [2,0],\n",
    "    [3,4]\n",
    "])\n",
    "print(A1 * A2) # multiply the matrices\n",
    "\n",
    "# indexing:\n",
    "arr1 = np.array([[0, 1, 2, 3],\n",
    "        [4, 5, 6, 7],\n",
    "        [8, 9, 10, 11]])\n",
    "\n",
    "print(\"index grabbed: \", arr1[0,1])\n",
    "print(\"index grabbed first row, first elem to third\", arr1[0, 0:3])\n",
    "print(\"index grabbed first row, all elems in it\", arr1[0, :])\n",
    "\n",
    "\n"
   ]
  },
  {
   "cell_type": "markdown",
   "metadata": {},
   "source": [
    "### Shape manipulation:"
   ]
  },
  {
   "cell_type": "code",
   "execution_count": 41,
   "metadata": {},
   "outputs": [
    {
     "name": "stdout",
     "output_type": "stream",
     "text": [
      "[ 0  1  2  3  4  5  6  7  8  9 10 11]\n",
      "The shape has been changed to 6x2 \n",
      " [[ 0  1]\n",
      " [ 2  3]\n",
      " [ 4  5]\n",
      " [ 6  7]\n",
      " [ 8  9]\n",
      " [10 11]]\n",
      "The transposed matrix is : \n",
      " [[ 0  2  4  6  8 10]\n",
      " [ 1  3  5  7  9 11]]\n",
      "[[ 0  1]\n",
      " [ 2  3]\n",
      " [ 4  5]\n",
      " [ 6  7]\n",
      " [ 8  9]\n",
      " [10 11]]\n"
     ]
    }
   ],
   "source": [
    "arr1 = np.array([[0, 1, 2, 3],\n",
    "        [4, 5, 6, 7],\n",
    "        [8, 9, 10, 11]])\n",
    "print(arr1.ravel())\n",
    "\n",
    "arr1.shape = (6,2)\n",
    "print(\"The shape has been changed to 6x2 \\n\", arr1)\n",
    "\n",
    "# arr1.transpose()\n",
    "print(\"The transposed matrix is : \\n\", arr1.transpose()) # passed by value, not reference\n",
    "# print(arr1)"
   ]
  }
 ],
 "metadata": {
  "kernelspec": {
   "display_name": "Python 3",
   "language": "python",
   "name": "python3"
  },
  "language_info": {
   "codemirror_mode": {
    "name": "ipython",
    "version": 3
   },
   "file_extension": ".py",
   "mimetype": "text/x-python",
   "name": "python",
   "nbconvert_exporter": "python",
   "pygments_lexer": "ipython3",
   "version": "3.10.12"
  }
 },
 "nbformat": 4,
 "nbformat_minor": 2
}
